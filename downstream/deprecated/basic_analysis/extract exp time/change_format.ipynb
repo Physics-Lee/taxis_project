{
 "cells": [
  {
   "cell_type": "code",
   "execution_count": 1,
   "metadata": {},
   "outputs": [],
   "source": [
    "import datetime\n",
    "import pandas as pd\n",
    "import csv"
   ]
  },
  {
   "cell_type": "code",
   "execution_count": 2,
   "metadata": {},
   "outputs": [],
   "source": [
    "start_time = pd.read_csv('start_time.csv')\n",
    "end_time = pd.read_csv('end_time.csv')\n",
    "\n",
    "start_time = start_time.values.tolist()\n",
    "end_time = end_time.values.tolist()\n",
    "\n",
    "start_time = [str(sublist[0]) for sublist in start_time]\n",
    "end_time = [str(sublist[0]) for sublist in end_time]"
   ]
  },
  {
   "cell_type": "code",
   "execution_count": 15,
   "metadata": {},
   "outputs": [],
   "source": [
    "test = list(zip(start_time, end_time))"
   ]
  },
  {
   "cell_type": "code",
   "execution_count": 16,
   "metadata": {},
   "outputs": [],
   "source": [
    "formatted_dates = []\n",
    "for row in test:\n",
    "    formatted_row = []\n",
    "    for date_str in row:\n",
    "        date_object = datetime.datetime.strptime(date_str, \"%Y%m%d\")\n",
    "        formatted_date = date_object.strftime(\"%Y-%m-%d\")\n",
    "        formatted_row.append(formatted_date)\n",
    "    formatted_dates.append(formatted_row)\n",
    "\n",
    "# Open a new file called \"formatted_dates.csv\" for writing\n",
    "with open('formatted_dates.csv', mode='w', newline='') as file:\n",
    "    writer = csv.writer(file)\n",
    "    # Write each row of formatted dates to the CSV file\n",
    "    for row in formatted_dates:\n",
    "        writer.writerow(row)"
   ]
  }
 ],
 "metadata": {
  "kernelspec": {
   "display_name": "base",
   "language": "python",
   "name": "python3"
  },
  "language_info": {
   "codemirror_mode": {
    "name": "ipython",
    "version": 3
   },
   "file_extension": ".py",
   "mimetype": "text/x-python",
   "name": "python",
   "nbconvert_exporter": "python",
   "pygments_lexer": "ipython3",
   "version": "3.9.7"
  },
  "orig_nbformat": 4,
  "vscode": {
   "interpreter": {
    "hash": "cf245e2d5e4a2aef58e3292d21e566cf0ee03e2e9151002f5de995cbc6bcfd67"
   }
  }
 },
 "nbformat": 4,
 "nbformat_minor": 2
}
