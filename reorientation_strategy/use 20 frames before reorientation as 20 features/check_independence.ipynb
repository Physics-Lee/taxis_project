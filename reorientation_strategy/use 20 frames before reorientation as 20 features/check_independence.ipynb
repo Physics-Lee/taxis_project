{
 "cells": [
  {
   "cell_type": "code",
   "execution_count": 1,
   "metadata": {},
   "outputs": [],
   "source": [
    "import pandas as pd\n",
    "import numpy as np\n",
    "import matplotlib.pyplot as plt\n",
    "from sklearn.model_selection import train_test_split\n",
    "from sklearn.linear_model import LogisticRegression"
   ]
  },
  {
   "cell_type": "code",
   "execution_count": 2,
   "metadata": {},
   "outputs": [],
   "source": [
    "# read\n",
    "X = pd.read_csv('X_NT.csv', header=None)\n",
    "y = pd.read_csv('y_NT.csv', header=None)\n",
    "X = X.to_numpy() \n",
    "y = y.to_numpy()\n",
    "\n",
    "# delete all zero rows\n",
    "zero_rows = np.where(~X.any(axis=1))[0]\n",
    "X = np.delete(X, zero_rows, axis=0)\n",
    "y = np.delete(y, zero_rows, axis=0)"
   ]
  },
  {
   "cell_type": "code",
   "execution_count": 3,
   "metadata": {},
   "outputs": [],
   "source": [
    "count_1_1 = 0\n",
    "count_1_0 = 0\n",
    "count_0_1 = 0\n",
    "count_0_0 = 0"
   ]
  },
  {
   "cell_type": "code",
   "execution_count": 4,
   "metadata": {},
   "outputs": [],
   "source": [
    "for i in range(np.size(y) - 1):\n",
    "    if y[i] == 1 and y[i+1] == 1:\n",
    "        count_1_1 += 1\n",
    "    elif y[i] == 1 and y[i+1] == 0:\n",
    "        count_1_0 += 1\n",
    "    elif y[i] == 0 and y[i+1] == 1:\n",
    "        count_0_1 += 1\n",
    "    elif y[i] == 0 and y[i+1] == 0:\n",
    "        count_0_0 += 1"
   ]
  },
  {
   "cell_type": "code",
   "execution_count": 5,
   "metadata": {},
   "outputs": [
    {
     "data": {
      "text/plain": [
       "1345"
      ]
     },
     "execution_count": 5,
     "metadata": {},
     "output_type": "execute_result"
    }
   ],
   "source": [
    "count_0_0 + count_0_1 + count_1_0 + count_1_1"
   ]
  }
 ],
 "metadata": {
  "kernelspec": {
   "display_name": "base",
   "language": "python",
   "name": "python3"
  },
  "language_info": {
   "codemirror_mode": {
    "name": "ipython",
    "version": 3
   },
   "file_extension": ".py",
   "mimetype": "text/x-python",
   "name": "python",
   "nbconvert_exporter": "python",
   "pygments_lexer": "ipython3",
   "version": "3.9.7"
  },
  "orig_nbformat": 4
 },
 "nbformat": 4,
 "nbformat_minor": 2
}
